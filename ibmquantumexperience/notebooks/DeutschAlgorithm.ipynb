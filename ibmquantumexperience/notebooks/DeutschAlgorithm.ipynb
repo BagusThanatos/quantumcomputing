{
 "cells": [
  {
   "cell_type": "code",
   "execution_count": 2,
   "metadata": {},
   "outputs": [],
   "source": [
    "# Import the QISKit SDK\n",
    "from qiskit import QuantumCircuit, ClassicalRegister, QuantumRegister\n",
    "from qiskit import execute"
   ]
  },
  {
   "cell_type": "code",
   "execution_count": 3,
   "metadata": {},
   "outputs": [],
   "source": [
    "# Create a Quantum Register with 3 qbit\n",
    "q = QuantumRegister(2)\n",
    "# Create a Classical Register with 3 qbit\n",
    "c = ClassicalRegister(2)"
   ]
  },
  {
   "cell_type": "code",
   "execution_count": 18,
   "metadata": {},
   "outputs": [
    {
     "data": {
      "text/plain": [
       "<qiskit._instructionset.InstructionSet at 0x11110930>"
      ]
     },
     "execution_count": 18,
     "metadata": {},
     "output_type": "execute_result"
    }
   ],
   "source": [
    "qc = QuantumCircuit(q, c)\n",
    "\n",
    "# Superposition all qbits\n",
    "# First Qubit is x\n",
    "# Second Qubit is y\n",
    "qc.x(q[1])\n",
    "for i in range(2):\n",
    "    qc.h(q[i])\n",
    "# f(x) is here\n",
    "# qc.h(q[1])\n",
    "# till here\n",
    "qc.cx(q[0], q[1])\n",
    "for i in range(2):\n",
    "    qc.h(q[i])\n",
    "    \n",
    "# Measure!\n",
    "qc.measure(q, c)"
   ]
  },
  {
   "cell_type": "code",
   "execution_count": 19,
   "metadata": {},
   "outputs": [
    {
     "name": "stdout",
     "output_type": "stream",
     "text": [
      "simulation:  COMPLETED\n",
      "{'11': 1000}\n"
     ]
    }
   ],
   "source": [
    "# Compile and run the Quantum circuit on a simulator backend\n",
    "job_sim = execute(qc, \"local_qasm_simulator\", shots=1000)\n",
    "# job_sim = execute(qc, \"local_statevector_simulator\")\n",
    "sim_result = job_sim.result()\n",
    "\n",
    "# Show the results\n",
    "print(\"simulation: \", sim_result)\n",
    "print(sim_result.get_counts(qc))"
   ]
  },
  {
   "cell_type": "code",
   "execution_count": 1,
   "metadata": {},
   "outputs": [],
   "source": [
    "# Not possible without latex :(\n",
    "# from qiskit.tools.visualization import plot_histogram, circuit_drawer"
   ]
  },
  {
   "cell_type": "code",
   "execution_count": 8,
   "metadata": {},
   "outputs": [
    {
     "name": "stderr",
     "output_type": "stream",
     "text": [
      "WARNING: Unable to compile latex. Is the `Qcircuit` latex package installed? Skipping circuit drawing...\n"
     ]
    }
   ],
   "source": [
    "# circuit_drawer(qc)"
   ]
  },
  {
   "cell_type": "code",
   "execution_count": null,
   "metadata": {},
   "outputs": [],
   "source": []
  }
 ],
 "metadata": {
  "kernelspec": {
   "display_name": "Python 3",
   "language": "python",
   "name": "python3"
  },
  "language_info": {
   "codemirror_mode": {
    "name": "ipython",
    "version": 3
   },
   "file_extension": ".py",
   "mimetype": "text/x-python",
   "name": "python",
   "nbconvert_exporter": "python",
   "pygments_lexer": "ipython3",
   "version": "3.6.5"
  }
 },
 "nbformat": 4,
 "nbformat_minor": 2
}
