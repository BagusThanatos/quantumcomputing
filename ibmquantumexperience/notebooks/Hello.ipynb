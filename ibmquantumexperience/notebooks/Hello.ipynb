{
 "cells": [
  {
   "cell_type": "code",
   "execution_count": 1,
   "metadata": {},
   "outputs": [],
   "source": [
    "import qiskit"
   ]
  },
  {
   "cell_type": "code",
   "execution_count": 4,
   "metadata": {},
   "outputs": [
    {
     "name": "stdout",
     "output_type": "stream",
     "text": [
      "Local backends:  ['local_unitary_simulator', 'local_statevector_simulator', 'local_qasm_simulator']\n",
      "simulation:  COMPLETED\n",
      "{'00': 508, '11': 516}\n"
     ]
    }
   ],
   "source": [
    "# Import the QISKit SDK\n",
    "from qiskit import QuantumCircuit, ClassicalRegister, QuantumRegister\n",
    "from qiskit import available_backends, execute\n",
    "\n",
    "# Create a Quantum Register with 2 qubits.\n",
    "q = QuantumRegister(2)\n",
    "# Create a Classical Register with 2 bits.\n",
    "c = ClassicalRegister(2)\n",
    "# Create a Quantum Circuit\n",
    "qc = QuantumCircuit(q, c)\n",
    "\n",
    "# Add a H gate on qubit 0, putting this qubit in superposition.\n",
    "qc.h(q[0])\n",
    "# Add a CX (CNOT) gate on control qubit 0 and target qubit 1, putting\n",
    "# the qubits in a Bell state.\n",
    "qc.cx(q[0], q[1])\n",
    "# Add a Measure gate to see the state.\n",
    "qc.measure(q, c)\n",
    "\n",
    "# See a list of available local simulators\n",
    "print(\"Local backends: \", available_backends({'local': True}))\n",
    "\n",
    "# Compile and run the Quantum circuit on a simulator backend\n",
    "job_sim = execute(qc, \"local_qasm_simulator\")\n",
    "job_sim = execute(qc, \"local_qasm_simulator\")\n",
    "sim_result = job_sim.result()\n",
    "\n",
    "# Show the results\n",
    "print(\"simulation: \", sim_result)\n",
    "print(sim_result.get_counts(qc))"
   ]
  },
  {
   "cell_type": "code",
   "execution_count": null,
   "metadata": {},
   "outputs": [],
   "source": []
  }
 ],
 "metadata": {
  "kernelspec": {
   "display_name": "Python 3",
   "language": "python",
   "name": "python3"
  },
  "language_info": {
   "codemirror_mode": {
    "name": "ipython",
    "version": 3
   },
   "file_extension": ".py",
   "mimetype": "text/x-python",
   "name": "python",
   "nbconvert_exporter": "python",
   "pygments_lexer": "ipython3",
   "version": "3.5.2"
  }
 },
 "nbformat": 4,
 "nbformat_minor": 2
}
